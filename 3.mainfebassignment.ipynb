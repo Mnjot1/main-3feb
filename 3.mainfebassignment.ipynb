{
 "cells": [
  {
   "cell_type": "markdown",
   "id": "b6a4d500-b1ba-47c2-86bb-ea1ab0a76c55",
   "metadata": {},
   "source": [
    "## Assignment Feb 3"
   ]
  },
  {
   "cell_type": "markdown",
   "id": "be272c18-ad47-42fc-bad4-9af226f0d389",
   "metadata": {},
   "source": [
    "## Q1"
   ]
  },
  {
   "cell_type": "code",
   "execution_count": 1,
   "id": "b980d699-e623-4217-9e46-7d0105035d8c",
   "metadata": {},
   "outputs": [],
   "source": []
  },
  {
   "cell_type": "code",
   "execution_count": null,
   "id": "ed455b18-f55c-4891-be25-ddcd06465c8c",
   "metadata": {},
   "outputs": [],
   "source": [
    "#\n",
    "# Q1. Which keyword is used to create a function? Create a function to return a list of odd numbers in the\n",
    "# range of 1 to 25.\n",
    "#def keyword is used to create function"
   ]
  },
  {
   "cell_type": "code",
   "execution_count": null,
   "id": "f8dd0c57-3604-4852-9b58-6c226cff387a",
   "metadata": {},
   "outputs": [],
   "source": [
    "# function example"
   ]
  },
  {
   "cell_type": "code",
   "execution_count": 12,
   "id": "0b4201cc-e203-4ec5-9f44-72077fcc3396",
   "metadata": {},
   "outputs": [],
   "source": [
    "## simple program based on user input\n",
    "def odd_num(n):\n",
    "    l=[]\n",
    "    for i in range(n):\n",
    "        if i%2!=0:\n",
    "            l.append(i)\n",
    "    return l"
   ]
  },
  {
   "cell_type": "code",
   "execution_count": 13,
   "id": "f8ae0dae-c7d0-4c47-844b-ff4670f490ac",
   "metadata": {},
   "outputs": [
    {
     "data": {
      "text/plain": [
       "[1, 3, 5, 7, 9, 11, 13, 15, 17, 19, 21, 23]"
      ]
     },
     "execution_count": 13,
     "metadata": {},
     "output_type": "execute_result"
    }
   ],
   "source": [
    "odd_num(25)"
   ]
  },
  {
   "cell_type": "code",
   "execution_count": 14,
   "id": "9bd3ea53-644a-4fe2-b571-891a99ea016c",
   "metadata": {},
   "outputs": [],
   "source": [
    "## automatic program that convert till 25\n",
    "def odd_num2():\n",
    "    l=[]\n",
    "    for i in range(1,26):\n",
    "        if i%2!=0:\n",
    "            l.append(i)\n",
    "    return l\n",
    "        "
   ]
  },
  {
   "cell_type": "code",
   "execution_count": 15,
   "id": "91aebe37-1d87-4129-886e-f8c6a9c6970e",
   "metadata": {},
   "outputs": [
    {
     "data": {
      "text/plain": [
       "[1, 3, 5, 7, 9, 11, 13, 15, 17, 19, 21, 23, 25]"
      ]
     },
     "execution_count": 15,
     "metadata": {},
     "output_type": "execute_result"
    }
   ],
   "source": [
    "odd_num2()"
   ]
  },
  {
   "cell_type": "code",
   "execution_count": null,
   "id": "adcca302-3475-42c4-997a-d22d3ed091ae",
   "metadata": {},
   "outputs": [],
   "source": []
  },
  {
   "cell_type": "markdown",
   "id": "02d620cc-c776-4666-9968-cecb65630164",
   "metadata": {},
   "source": [
    "## Q2"
   ]
  },
  {
   "cell_type": "markdown",
   "id": "724f63a0-718a-4387-af75-8a8e667b9e89",
   "metadata": {},
   "source": []
  },
  {
   "cell_type": "code",
   "execution_count": null,
   "id": "1311e6b7-566d-4632-83bb-33dcc53ccc6a",
   "metadata": {},
   "outputs": [],
   "source": [
    "#Q2. Why *args and **kwargs is used in some functions? Create a function each for *args and **kwargs to\n",
    "# demonstrate their use."
   ]
  },
  {
   "cell_type": "code",
   "execution_count": null,
   "id": "6fb788e2-cdda-4300-ab7d-c7a1e7efb2c5",
   "metadata": {},
   "outputs": [],
   "source": [
    "# *args is used to create infinte data in multiple data squence \n",
    "# also it indicates that any number of positional arguments can be passed to the function, \n",
    "# and these arguments will be collected into a tuple., whereas.\n",
    "# **kwargs is used for specially for creating\n",
    "# any number of keyword arguments can be passed to the function, \n",
    "# and these arguments will be collected into a dictionary."
   ]
  },
  {
   "cell_type": "code",
   "execution_count": 22,
   "id": "09aca051-9bb7-41fb-ba73-6036e710a080",
   "metadata": {},
   "outputs": [],
   "source": [
    "# example of *args\n",
    "def test1(*args):\n",
    "    return args"
   ]
  },
  {
   "cell_type": "code",
   "execution_count": 23,
   "id": "b68ca82d-f73c-4f95-8abc-12b5e11da97e",
   "metadata": {},
   "outputs": [
    {
     "data": {
      "text/plain": [
       "(1, 2, 3, [4, 5, 'six'], {10, 7, 8, 'nine'}, 11, 12, (13, 'fifteen'))"
      ]
     },
     "execution_count": 23,
     "metadata": {},
     "output_type": "execute_result"
    }
   ],
   "source": [
    "test1(1,2,3,[4,5,\"six\"],{7,8,\"nine\",10},11,12,(13,\"fifteen\"))"
   ]
  },
  {
   "cell_type": "code",
   "execution_count": 25,
   "id": "e7ba3743-93ff-41dd-b19d-6119dea71935",
   "metadata": {},
   "outputs": [],
   "source": [
    "#example of * kwargs\n",
    "def test2(**kwargs):\n",
    "    return kwargs"
   ]
  },
  {
   "cell_type": "code",
   "execution_count": 28,
   "id": "1eda521a-ee59-48f1-8262-54da2d61d13b",
   "metadata": {},
   "outputs": [
    {
     "data": {
      "text/plain": [
       "{'key': 'value', 'sports': {'cricket', 'football'}, 'hello': 'bye'}"
      ]
     },
     "execution_count": 28,
     "metadata": {},
     "output_type": "execute_result"
    }
   ],
   "source": [
    "test2(key=\"value\",sports={\"only\",\"cricket\"},hello=\"bye\",tei)"
   ]
  },
  {
   "cell_type": "code",
   "execution_count": null,
   "id": "45ec21ea-4dba-4008-9eeb-a5f7852408a7",
   "metadata": {},
   "outputs": [],
   "source": []
  },
  {
   "cell_type": "markdown",
   "id": "49dc5581-014c-4cff-bab4-843b929f33d7",
   "metadata": {},
   "source": [
    "## Q3"
   ]
  },
  {
   "cell_type": "code",
   "execution_count": null,
   "id": "b2912d6e-7722-487a-9704-32fec9bf2399",
   "metadata": {},
   "outputs": [],
   "source": []
  },
  {
   "cell_type": "code",
   "execution_count": 1,
   "id": "8209b261-9461-43de-9c96-bcbfaad2d985",
   "metadata": {},
   "outputs": [],
   "source": [
    "#Q3. What is an iterator in python? Name the method used to initialise the iterator object and the method\n",
    "#used for iteration. Use these methods to print the first five elements of the given list [2, 4, 6, 8, 10, 12, 14, 16,\n",
    "#18, 20]."
   ]
  },
  {
   "cell_type": "code",
   "execution_count": 2,
   "id": "8cb70a2e-a392-4409-88a6-15c5feee1b30",
   "metadata": {},
   "outputs": [],
   "source": [
    "# Iterator is a object used in python to implifies two method iter() and next()\n",
    "# iter() method is used to iterates the object and return itself\n",
    "# whereas, next() is used to return next value from iterate.\n"
   ]
  },
  {
   "cell_type": "code",
   "execution_count": 3,
   "id": "c22e7645-e08e-408c-8780-59ea65136fc9",
   "metadata": {},
   "outputs": [
    {
     "name": "stdout",
     "output_type": "stream",
     "text": [
      "2\n",
      "4\n",
      "6\n",
      "8\n",
      "10\n"
     ]
    }
   ],
   "source": [
    "l=[2,4,6,8,10,12,14,16,18,20]\n",
    "\n",
    "my_list=iter(l)\n",
    "\n",
    "for i in range(5):\n",
    "    print(next(my_list))"
   ]
  },
  {
   "cell_type": "code",
   "execution_count": null,
   "id": "1141b13f-87b6-4621-83d3-69ddea97a72a",
   "metadata": {},
   "outputs": [],
   "source": []
  },
  {
   "cell_type": "markdown",
   "id": "b81546fa-57de-473d-93c9-b0a753484b4c",
   "metadata": {},
   "source": [
    "## Q4"
   ]
  },
  {
   "cell_type": "code",
   "execution_count": 4,
   "id": "1711c514-1881-4494-89f1-878efbe697fb",
   "metadata": {},
   "outputs": [],
   "source": [
    "# Q4. What is a generator function in python? Why yield keyword is used? Give an example of a generator\n",
    "# function."
   ]
  },
  {
   "cell_type": "code",
   "execution_count": 5,
   "id": "26f235fe-7bca-4807-a3d3-8b28d393863d",
   "metadata": {},
   "outputs": [],
   "source": [
    "# Generator is a special function unlike other function which return a single value and exit.\n",
    "# Generator are very useful when we are working on large squence or value.\n",
    "# yield keyword is used in generator like return is used in other function,\n",
    "# yield generate output one by one.\n",
    "# a good example of generator is range and other example is below."
   ]
  },
  {
   "cell_type": "code",
   "execution_count": 14,
   "id": "ebefd169-36d7-4292-b3d1-92461744de13",
   "metadata": {},
   "outputs": [],
   "source": [
    "# In this generator function user will enter how many sqaure number it wants\n",
    "\n",
    "def gensq(n):\n",
    "    for i in range(n):\n",
    "        yield i**2\n",
    "    "
   ]
  },
  {
   "cell_type": "code",
   "execution_count": 15,
   "id": "529f1e1a-d889-4617-91c3-068047594f0b",
   "metadata": {},
   "outputs": [
    {
     "name": "stdout",
     "output_type": "stream",
     "text": [
      "0\n",
      "1\n",
      "4\n",
      "9\n",
      "16\n"
     ]
    }
   ],
   "source": [
    "for j in gensq(5):\n",
    "     print(j)"
   ]
  },
  {
   "cell_type": "code",
   "execution_count": 16,
   "id": "177ea38d-1786-42d5-b2d5-7e8a77c54d70",
   "metadata": {},
   "outputs": [
    {
     "data": {
      "text/plain": [
       "<generator object gensq at 0x7f2c3ed8dd90>"
      ]
     },
     "execution_count": 16,
     "metadata": {},
     "output_type": "execute_result"
    }
   ],
   "source": [
    "gensq(5)"
   ]
  },
  {
   "cell_type": "code",
   "execution_count": null,
   "id": "8d7eee6b-b184-443b-88e8-a15051af0341",
   "metadata": {},
   "outputs": [],
   "source": []
  },
  {
   "cell_type": "markdown",
   "id": "34f7ee6e-1f70-465b-bf37-7c09662ef75d",
   "metadata": {},
   "source": [
    "## Q5"
   ]
  },
  {
   "cell_type": "code",
   "execution_count": null,
   "id": "805367fd-c661-42be-96b2-d8284b1caf43",
   "metadata": {},
   "outputs": [],
   "source": [
    "# Q5. Create a generator function for prime numbers less than 1000. Use the next() method to print the\n",
    "# first 20 prime numbers."
   ]
  },
  {
   "cell_type": "code",
   "execution_count": 6,
   "id": "e7ae5fb5-967e-48ea-8448-769d02fd5e1e",
   "metadata": {},
   "outputs": [],
   "source": [
    "def primetest():\n",
    "    num=2\n",
    "    while num<1000:\n",
    "        for i in range(2,num):\n",
    "            if num%i==0:\n",
    "                break\n",
    "        else:\n",
    "            yield num\n",
    "        num+=1"
   ]
  },
  {
   "cell_type": "code",
   "execution_count": 7,
   "id": "9ed14e81-c184-4efa-9593-b59719bed4af",
   "metadata": {},
   "outputs": [
    {
     "name": "stdout",
     "output_type": "stream",
     "text": [
      "2\n",
      "3\n",
      "5\n",
      "7\n",
      "11\n",
      "13\n",
      "17\n",
      "19\n",
      "23\n",
      "29\n",
      "31\n",
      "37\n",
      "41\n",
      "43\n",
      "47\n",
      "53\n",
      "59\n",
      "61\n",
      "67\n",
      "71\n"
     ]
    }
   ],
   "source": [
    "primegen=primetest()\n",
    "for i in range(20):\n",
    "    print(next(primegen))"
   ]
  },
  {
   "cell_type": "code",
   "execution_count": 18,
   "id": "f1b43a81-928e-4221-aa63-0fd6bbf830c1",
   "metadata": {},
   "outputs": [],
   "source": []
  },
  {
   "cell_type": "code",
   "execution_count": null,
   "id": "8870074a-0942-4059-ba64-f850b984116c",
   "metadata": {},
   "outputs": [],
   "source": []
  }
 ],
 "metadata": {
  "kernelspec": {
   "display_name": "Python 3 (ipykernel)",
   "language": "python",
   "name": "python3"
  },
  "language_info": {
   "codemirror_mode": {
    "name": "ipython",
    "version": 3
   },
   "file_extension": ".py",
   "mimetype": "text/x-python",
   "name": "python",
   "nbconvert_exporter": "python",
   "pygments_lexer": "ipython3",
   "version": "3.10.8"
  }
 },
 "nbformat": 4,
 "nbformat_minor": 5
}
